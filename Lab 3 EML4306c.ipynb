{
 "cells": [
  {
   "cell_type": "code",
   "execution_count": 20,
   "metadata": {},
   "outputs": [
    {
     "name": "stdout",
     "output_type": "stream",
     "text": [
      "Area is 0.0021991148575128557 m^2\n",
      "    Volts  Current (A)  Ua   Ts    Tinf  Unnamed: 5    Qin\n",
      "0      15        2.390   1  528  298.90         NaN  35.85\n",
      "1      15        2.400   2  481  298.10         NaN  36.00\n",
      "2      15        2.410   3  455  297.60         NaN  36.15\n",
      "3      15        2.410   4  435  297.15         NaN  36.15\n",
      "4      15        2.420   5  422  296.70         NaN  36.30\n",
      "5      15        2.420   6  410  296.45         NaN  36.30\n",
      "6      15        2.420   7  401  296.50         NaN  36.30\n",
      "7      20        3.160   1  645  300.00         NaN  63.20\n",
      "8      20        3.175   2  594  298.50         NaN  63.50\n",
      "9      20        3.180   3  556  297.90         NaN  63.60\n",
      "10     20        3.190   4  530  297.10         NaN  63.80\n",
      "11     20        3.190   5  506  296.70         NaN  63.80\n",
      "12     20        3.195   6  491  296.40         NaN  63.90\n",
      "13     20        3.200   7  476  296.50         NaN  64.00\n"
     ]
    }
   ],
   "source": [
    "import numpy as np\n",
    "import pandas as pd\n",
    "import matplotlib.pyplot as plt\n",
    "\n",
    "#Read data\n",
    "df = pd.read_csv('C:\\\\Users\\\\perry\\\\Downloads\\\\Lab 2 Data.csv')\n",
    "\n",
    "#Area\n",
    "L = 0.07\n",
    "D = 0.01\n",
    "A = np.pi * D * L\n",
    "print('Area is {} m^2'.format(A))\n",
    "\n",
    "#Important values from table\n",
    "Q_in = df['Qin']\n",
    "Ua = df['Ua']\n",
    "Ts = df['Ts']\n",
    "Tinf = df['Tinf']\n",
    "\n",
    "#Converting T to Kelvin and applying correction factor to Velocity\n",
    "Ts += 273\n",
    "Tinf += 273\n",
    "Uc = Ua * 1.22\n",
    "print(df)"
   ]
  },
  {
   "cell_type": "code",
   "execution_count": 21,
   "metadata": {},
   "outputs": [
    {
     "name": "stdout",
     "output_type": "stream",
     "text": [
      "[17.259635139648296, 14.145912540011699, 12.6135730588392, 11.520791019645863, 10.8442589408181, 10.253566170698287, 9.8361737893125, 27.1135785375, 22.3641746566875, 19.2638296550133, 17.312732181353702, 15.659547330590101, 14.685447425896799, 13.774821216187501]\n"
     ]
    }
   ],
   "source": [
    "#Calculations for h rad\n",
    "def get_hrad(Tsurface, Tambient, e):\n",
    "    sigma = 5.67 * 10 ** -8\n",
    "    hrad = e * sigma * (Tsurface ** 2 + Tambient ** 2) * (Tsurface + Tambient)\n",
    "    return hrad\n",
    "\n",
    "#For loop to save values to a list\n",
    "h_rad = []\n",
    "for temp in range(0,len(Ts)):\n",
    "    h_rad.append(get_hrad(Ts[temp],Tinf[temp],1))\n",
    "print(h_rad)"
   ]
  },
  {
   "cell_type": "code",
   "execution_count": 22,
   "metadata": {},
   "outputs": [
    {
     "name": "stdout",
     "output_type": "stream",
     "text": [
      "[8.695701288232089, 5.689742169842555, 4.366070737810701, 3.492504561416098, 2.9881257007203548, 2.5604128003972004, 2.260426533760765, 20.570926323744487, 14.533100379624283, 10.93398683119031, 8.867128700791902, 7.20769407105392, 6.284604202335742, 5.437488312300172]\n"
     ]
    }
   ],
   "source": [
    "#Calculations for Q rad\n",
    "Q_rad = []\n",
    "def get_Qrad(h, Area, Tsurface, Tambient):\n",
    "    Qrad = h * Area * (Tsurface - Tambient)\n",
    "    return Qrad\n",
    "for temp in range(0,len(Ts)):\n",
    "    Q_rad.append(get_Qrad(h_rad[temp], A, Ts[temp], Tinf[temp]))\n",
    "print(Q_rad)"
   ]
  },
  {
   "cell_type": "code",
   "execution_count": 23,
   "metadata": {},
   "outputs": [],
   "source": [
    "#Interpolate kinematic viscocity, thermal diffusivity\n",
    "#Pr = v/a = (cp * u) / k\n",
    "v = []\n",
    "a = []\n",
    "k = []\n",
    "Pr = []\n",
    "Re = []\n",
    "Nu = []\n",
    "#Back to Celsius for calculations\n",
    "Tinf_C = Tinf - 273\n",
    "#Interpolate based on values in YUNUS A. ÇENGEL Heat and Mass Transfer 5th Edition\n",
    "def interpolator(Tambient):\n",
    "    v_store = []\n",
    "    a_store = []\n",
    "    for temp in range(0,len(Ts)):\n",
    "        if Tambient < 25:\n",
    "            v_calc = 1.516 * 10 **-5 + (Tambient - 20)/(25 - 20) * (1.562 - 1.516) * 10** -5\n",
    "            a_calc = 2.074 * 10 **-5 + (Tambient - 20)/(25 - 20) * (2.141 - 2.074) * 10** -5\n",
    "            k_calc = 0.02514 + (Tambient - 20)/(25 - 20) * (0.02551 - 0.02514)\n",
    "            Pr_calc =  0.7309 + (Tambient - 20)/(25 - 20) * (0.7296 - 0.7309)\n",
    "        else:\n",
    "            v_calc = 1.562 * 10 **-5 + (Tambient - 25)/(30 - 25) * (1.608 - 1.562) * 10** -5\n",
    "            a_calc = 2.141 * 10 **-5 + (Tambient - 25)/(30 - 25) * (2.208 - 2.141) * 10** -5\n",
    "            k_calc = 0.02551 + (Tambient - 25)/(30 -25) * (0.02588 - 0.02551)\n",
    "            Pr_calc =  0.7296 + (Tambient - 25)/(30 - 25) * (0.7282 - 0.7296)\n",
    "    return v_calc, a_calc, k_calc, Pr_calc\n",
    "#Store v and a in list\n",
    "for temp in range(0,len(Ts)):\n",
    "    v.append(interpolator(Tinf_C[temp])[0])\n",
    "    a.append(interpolator(Tinf_C[temp])[1])\n",
    "    k.append(interpolator(Tinf_C[temp])[2])\n",
    "    Pr.append(interpolator(Tinf_C[temp])[3])\n",
    "#Nusselt number calculations\n",
    "for temp in range(0,len(Ts)):  \n",
    "    Re.append(Uc[temp] * D / v[temp])\n",
    "    Nu.append(0.3 + ((0.62*Re[temp]**(0.5)*Pr[temp]**0.33)*(1+(Re[temp]/28200)*0.5))/((1+(0.4/Pr[temp])**0.66))**0.25)"
   ]
  },
  {
   "cell_type": "code",
   "execution_count": 24,
   "metadata": {},
   "outputs": [
    {
     "name": "stdout",
     "output_type": "stream",
     "text": [
      "[36.27163891262681, 51.672752765741095, 63.96586032833981, 74.73140365495799, 84.5733638387269, 93.78510921366527, 102.53047149419166, 36.263824991478856, 51.6664784839468, 63.958502741903274, 74.73316204542755, 84.5733638387269, 93.78806597316999, 102.53047149419166]\n"
     ]
    }
   ],
   "source": [
    "#Calculations for Q rad\n",
    "def get_hconv(Nusselt, conductivity, Lc):\n",
    "    hconv = ((Nusselt * conductivity)/ Lc)\n",
    "    return hconv\n",
    "#For loop to save values to a list\n",
    "h_conv = []\n",
    "for temp in range(0,len(Ts)):\n",
    "    h_conv.append(get_hconv(Nu[temp], k[temp], D))\n",
    "print(h_conv)"
   ]
  },
  {
   "cell_type": "code",
   "execution_count": 25,
   "metadata": {},
   "outputs": [
    {
     "name": "stdout",
     "output_type": "stream",
     "text": [
      "Qconv: \n",
      "[18.274276058957597, 20.78371682360497, 22.1411862995268, 22.654674292841335, 23.30411358323838, 23.419031985528676, 23.562271595515558, 27.513169133507468, 33.574863798712336, 36.30230536951543, 38.276371351002325, 38.92698302451551, 40.136391929368244, 40.4729928363162]\n"
     ]
    }
   ],
   "source": [
    "#Calculations for Q conv\n",
    "Q_conv = []\n",
    "def get_Qconv(h, Area, Tsurface, Tambient):\n",
    "    Qrad = h * Area * (Tsurface - Tambient)\n",
    "    return Qrad\n",
    "for temp in range(0,len(Ts)):\n",
    "    Q_conv.append(get_Qconv(h_conv[temp], A, Ts[temp], Tinf[temp]))\n",
    "print('Qconv: \\n{}'.format(Q_conv))"
   ]
  },
  {
   "cell_type": "code",
   "execution_count": 26,
   "metadata": {},
   "outputs": [
    {
     "name": "stdout",
     "output_type": "stream",
     "text": [
      "Qout: \n",
      "[26.969977347189683, 26.473458993447522, 26.507257037337503, 26.147178854257433, 26.292239283958736, 25.979444785925878, 25.822698129276322, 48.084095457251955, 48.107964178336616, 47.23629220070574, 47.14350005179423, 46.13467709556943, 46.42099613170399, 45.91048114861637]\n",
      "Qin - Qout:\n",
      "0      8.880023\n",
      "1      9.526541\n",
      "2      9.642743\n",
      "3     10.002821\n",
      "4     10.007761\n",
      "5     10.320555\n",
      "6     10.477302\n",
      "7     15.115905\n",
      "8     15.392036\n",
      "9     16.363708\n",
      "10    16.656500\n",
      "11    17.665323\n",
      "12    17.479004\n",
      "13    18.089519\n",
      "Name: Qin, dtype: float64\n"
     ]
    }
   ],
   "source": [
    "#Q total\n",
    "Q_out = []\n",
    "for temp in range(0,len(Ts)):\n",
    "    Q_out.append(Q_conv[temp] + Q_rad[temp])\n",
    "print('Qout: \\n{}'.format(Q_out))\n",
    "print('Qin - Qout:\\n{}'.format(Q_in - Q_out))"
   ]
  },
  {
   "cell_type": "code",
   "execution_count": null,
   "metadata": {},
   "outputs": [],
   "source": []
  }
 ],
 "metadata": {
  "kernelspec": {
   "display_name": "Python 3",
   "language": "python",
   "name": "python3"
  },
  "language_info": {
   "codemirror_mode": {
    "name": "ipython",
    "version": 3
   },
   "file_extension": ".py",
   "mimetype": "text/x-python",
   "name": "python",
   "nbconvert_exporter": "python",
   "pygments_lexer": "ipython3",
   "version": "3.7.6"
  }
 },
 "nbformat": 4,
 "nbformat_minor": 4
}
