{
 "cells": [
  {
   "cell_type": "code",
   "execution_count": 127,
   "metadata": {},
   "outputs": [
    {
     "name": "stdout",
     "output_type": "stream",
     "text": [
      "Area is 0.0021991148575128557 m^2\n",
      "    Volts  Current (A)  Ua   Ts    Tinf  Unnamed: 5    Qin\n",
      "0      15        2.390   1  528  298.90         NaN  35.85\n",
      "1      15        2.400   2  481  298.10         NaN  36.00\n",
      "2      15        2.410   3  455  297.60         NaN  36.15\n",
      "3      15        2.410   4  435  297.15         NaN  36.15\n",
      "4      15        2.420   5  422  296.70         NaN  36.30\n",
      "5      15        2.420   6  410  296.45         NaN  36.30\n",
      "6      15        2.420   7  401  296.50         NaN  36.30\n",
      "7      20        3.160   1  645  300.00         NaN  63.20\n",
      "8      20        3.175   2  594  298.50         NaN  63.50\n",
      "9      20        3.180   3  556  297.90         NaN  63.60\n",
      "10     20        3.190   4  530  297.10         NaN  63.80\n",
      "11     20        3.190   5  506  296.70         NaN  63.80\n",
      "12     20        3.195   6  491  296.40         NaN  63.90\n",
      "13     20        3.200   7  476  296.50         NaN  64.00\n"
     ]
    }
   ],
   "source": [
    "import numpy as np\n",
    "import pandas as pd\n",
    "import matplotlib.pyplot as plt\n",
    "\n",
    "#Read data\n",
    "df = pd.read_csv('C:\\\\Users\\\\perry\\\\Downloads\\\\Lab 2 Data.csv')\n",
    "\n",
    "#Area\n",
    "L = 0.07\n",
    "D = 0.01\n",
    "A = np.pi * D * L\n",
    "print('Area is {} m^2'.format(A))\n",
    "\n",
    "#Important values from table\n",
    "Qin = df['Qin']\n",
    "Ua = df['Ua']\n",
    "Ts = df['Ts']\n",
    "Tinf = df['Tinf']\n",
    "\n",
    "#Converting T to Kelvin and applying correction factor to Velocity\n",
    "Ts += 273\n",
    "Tinf += 273\n",
    "Uc = Ua * 1.22\n",
    "print(df)"
   ]
  },
  {
   "cell_type": "code",
   "execution_count": 128,
   "metadata": {},
   "outputs": [
    {
     "name": "stdout",
     "output_type": "stream",
     "text": [
      "[17.259635139648296, 14.145912540011699, 12.6135730588392, 11.520791019645863, 10.8442589408181, 10.253566170698287, 9.8361737893125, 27.1135785375, 22.3641746566875, 19.2638296550133, 17.312732181353702, 15.659547330590101, 14.685447425896799, 13.774821216187501]\n"
     ]
    }
   ],
   "source": [
    "#Calculations for h rad\n",
    "def get_hrad(Tsurface, Tambient, e):\n",
    "    sigma = 5.67 * 10 ** -8\n",
    "    hrad = e * sigma * (Tsurface ** 2 + Tambient ** 2) * (Tsurface + Tambient)\n",
    "    return hrad\n",
    "\n",
    "#For loop to save values to a list\n",
    "h_rad = []\n",
    "for temp in range(0,len(Ts)):\n",
    "    h_rad.append(get_hrad(Ts[temp],Tinf[temp],1))\n",
    "print(h_rad)"
   ]
  },
  {
   "cell_type": "code",
   "execution_count": 129,
   "metadata": {},
   "outputs": [
    {
     "name": "stdout",
     "output_type": "stream",
     "text": [
      "[8.695701288232089, 5.689742169842555, 4.366070737810701, 3.492504561416098, 2.9881257007203548, 2.5604128003972004, 2.260426533760765, 20.570926323744487, 14.533100379624283, 10.93398683119031, 8.867128700791902, 7.20769407105392, 6.284604202335742, 5.437488312300172]\n"
     ]
    }
   ],
   "source": [
    "#Calculations for Q rad\n",
    "Q_rad = []\n",
    "def get_Qrad(h, Area, Tsurface, Tambient):\n",
    "    Qrad = h * Area * (Tsurface - Tambient)\n",
    "    return Qrad\n",
    "for temp in range(0,len(Ts)):\n",
    "    Q_rad.append(get_Qrad(h_rad[temp], A, Ts[temp], Tinf[temp]))\n",
    "print(Q_rad)"
   ]
  },
  {
   "cell_type": "code",
   "execution_count": 130,
   "metadata": {},
   "outputs": [],
   "source": [
    "#Interpolate kinematic viscocity, thermal diffusivity\n",
    "#Pr = v/a = (cp * u) / k\n",
    "v = []\n",
    "a = []\n",
    "k = []\n",
    "Pr = []\n",
    "Re = []\n",
    "Nu = []\n",
    "#Back to Celsius for calculations\n",
    "Tinf_C = Tinf - 273\n",
    "#Interpolate based on values in YUNUS A. ÇENGEL Heat and Mass Transfer 5th Edition\n",
    "def interpolator(Tambient):\n",
    "    v_store = []\n",
    "    a_store = []\n",
    "    for temp in range(0,len(Ts)):\n",
    "        if Tambient < 25:\n",
    "            v_calc = 1.516 * 10 **-5 + (Tambient - 20)/(25 - 20) * (1.562 - 1.516) * 10** -5\n",
    "            a_calc = 2.074 * 10 **-5 + (Tambient - 20)/(25 - 20) * (2.141 - 2.074) * 10** -5\n",
    "            k_calc = 0.02514 + (Tambient - 20)/(25 - 20) * (0.02551 - 0.02514)\n",
    "        else:\n",
    "            v_calc = 1.608 * 10 **-5 + (Tambient - 25)/(30 - 25) * (1.608 - 1.562) * 10** -5\n",
    "            a_calc = 2.141 * 10 **-5 + (Tambient - 25)/(30 - 25) * (2.208 - 2.141) * 10** -5\n",
    "            k_calc = 0.02588 + (Tambient - 25)/(30 -25) * (0.02588 - 0.02551)\n",
    "    return v_calc, a_calc, k_calc\n",
    "#Store v and a in list\n",
    "for temp in range(0,len(Ts)):\n",
    "    v.append(interpolator(Tinf_C[temp])[0])\n",
    "    a.append(interpolator(Tinf_C[temp])[1])\n",
    "    k.append(interpolator(Tinf_C[temp])[2])\n",
    "#Nusselt number calculations\n",
    "for temp in range(0,len(Ts)):\n",
    "    Pr.append(v[temp] / a[temp])    \n",
    "    Re.append(Uc[temp] * D / v[temp])\n",
    "    Nu.append(0.3 + ((0.62*Re[temp]**(0.5)*Pr[temp]**0.33)*(1+(Re[temp]/28200)*0.5))/((1+(0.4/Pr[temp])**0.66))**0.25)"
   ]
  },
  {
   "cell_type": "code",
   "execution_count": 131,
   "metadata": {},
   "outputs": [
    {
     "name": "stdout",
     "output_type": "stream",
     "text": [
      "[5.4475020992838035, 7.793065538160607, 9.852096639555203, 11.540393467429418, 13.094526412818562, 14.54197568369407, 15.893361760762595, 5.412250273042578, 7.774303639301607, 9.833804573257984, 11.544025510148805, 13.094526412818562, 14.546678312924955, 15.893361760762595]\n"
     ]
    }
   ],
   "source": [
    "def get_hconv(Nusselt, Lc, conductivity):\n",
    "    hconv = ((Nusselt * D)/ conductivity)\n",
    "    return hconv\n",
    "#For loop to save values to a list\n",
    "h_conv = []\n",
    "for temp in range(0,len(Ts)):\n",
    "    h_conv.append(get_hconv(Nu[temp], D, k[temp]))\n",
    "print(h_conv)"
   ]
  },
  {
   "cell_type": "code",
   "execution_count": 132,
   "metadata": {},
   "outputs": [
    {
     "name": "stdout",
     "output_type": "stream",
     "text": [
      "[2.744545330136941, 3.1345120719078405, 3.4102114161777157, 3.4984470039256657, 3.6081848585914345, 3.631269361678041, 3.6524137743196086, 4.106245195868951, 5.052041352121309, 5.581584328250105, 5.912547993664541, 6.027079735859435, 6.225218272493431, 6.273763373113586]\n"
     ]
    }
   ],
   "source": [
    "#Calculations for Q conv\n",
    "Q_conv = []\n",
    "def get_Qconv(h, Area, Tsurface, Tambient):\n",
    "    Qrad = h * Area * (Tsurface - Tambient)\n",
    "    return Qrad\n",
    "for temp in range(0,len(Ts)):\n",
    "    Q_conv.append(get_Qconv(h_conv[temp], A, Ts[temp], Tinf[temp]))\n",
    "print(Q_conv)"
   ]
  },
  {
   "cell_type": "code",
   "execution_count": 134,
   "metadata": {},
   "outputs": [
    {
     "name": "stdout",
     "output_type": "stream",
     "text": [
      "0     24.409753\n",
      "1     27.175746\n",
      "2     28.373718\n",
      "3     29.159048\n",
      "4     29.703689\n",
      "5     30.108318\n",
      "6     30.387160\n",
      "7     38.522828\n",
      "8     43.914858\n",
      "9     47.084429\n",
      "10    49.020323\n",
      "11    50.565226\n",
      "12    51.390178\n",
      "13    52.288748\n",
      "Name: Qin, dtype: float64\n"
     ]
    }
   ],
   "source": [
    "#Q total\n",
    "Qout = []\n",
    "for temp in range(0,len(Ts)):\n",
    "    Qout.append(Q_conv[temp] + Q_rad[temp])\n",
    "print(Qin - Qout)"
   ]
  },
  {
   "cell_type": "code",
   "execution_count": null,
   "metadata": {},
   "outputs": [],
   "source": []
  }
 ],
 "metadata": {
  "kernelspec": {
   "display_name": "Python 3",
   "language": "python",
   "name": "python3"
  },
  "language_info": {
   "codemirror_mode": {
    "name": "ipython",
    "version": 3
   },
   "file_extension": ".py",
   "mimetype": "text/x-python",
   "name": "python",
   "nbconvert_exporter": "python",
   "pygments_lexer": "ipython3",
   "version": "3.7.6"
  }
 },
 "nbformat": 4,
 "nbformat_minor": 4
}
